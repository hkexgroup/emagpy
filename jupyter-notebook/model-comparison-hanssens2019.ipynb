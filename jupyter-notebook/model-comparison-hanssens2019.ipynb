{
 "cells": [
  {
   "cell_type": "code",
   "execution_count": 6,
   "id": "589954bc-3622-4cf0-905f-91f28cd66684",
   "metadata": {},
   "outputs": [],
   "source": [
    "import os\n",
    "import sys\n",
    "sys.path.append(os.path.abspath('../src/'))\n",
    "from emagpy import Problem\n",
    "import numpy as np\n",
    "import matplotlib.pyplot as plt\n",
    "import pandas as pd"
   ]
  },
  {
   "cell_type": "code",
   "execution_count": 8,
   "id": "8b496159-9ce3-4932-b148-41facf538318",
   "metadata": {},
   "outputs": [],
   "source": [
    "freq = np.linspace(1, 1000000, 5)\n",
    "spacing = np.linspace(0, 50, 5)\n",
    "ec = np.linspace(1, 4000, 5)\n"
   ]
  },
  {
   "cell_type": "code",
   "execution_count": null,
   "id": "04029332-8f8b-42bb-8bd2-af7c00cf1868",
   "metadata": {},
   "outputs": [],
   "source": []
  }
 ],
 "metadata": {
  "kernelspec": {
   "display_name": "Python 3",
   "language": "python",
   "name": "python3"
  },
  "language_info": {
   "codemirror_mode": {
    "name": "ipython",
    "version": 3
   },
   "file_extension": ".py",
   "mimetype": "text/x-python",
   "name": "python",
   "nbconvert_exporter": "python",
   "pygments_lexer": "ipython3",
   "version": "3.8.9"
  }
 },
 "nbformat": 4,
 "nbformat_minor": 5
}
