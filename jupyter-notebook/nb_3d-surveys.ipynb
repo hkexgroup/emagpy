{
 "cells": [
  {
   "cell_type": "markdown",
   "metadata": {},
   "source": [
    "# 3D visualization\n",
    "EMagPy can also display 3D inverted survey (inverted based on 1D inversion). It uses the Python package `pyvista` to render the .vtk produced."
   ]
  },
  {
   "cell_type": "code",
   "execution_count": 1,
   "metadata": {},
   "outputs": [],
   "source": [
    "import sys\n",
    "sys.path.append('../src/')\n",
    "from emagpy import Problem\n",
    "import pyvista as pv"
   ]
  },
  {
   "cell_type": "code",
   "execution_count": 6,
   "metadata": {},
   "outputs": [
    {
     "name": "stdout",
     "output_type": "stream",
     "text": [
      "Removing 1 NaN from survey\n",
      "120/120 inverted"
     ]
    },
    {
     "data": {
      "application/vnd.jupyter.widget-view+json": {
       "model_id": "80709e7484cf4181ba3c9d5ee43170df",
       "version_major": 2,
       "version_minor": 0
      },
      "text/plain": [
       "Widget(value=\"<iframe src='http://localhost:43963/index.html?ui=P_0x7f59c5ed3d60_4&reconnect=auto' style='widt…"
      ]
     },
     "metadata": {},
     "output_type": "display_data"
    }
   ],
   "source": [
    "k = Problem()\n",
    "k.createSurvey('../src/examples/cover-crop/coverCrop.csv')\n",
    "k.setInit(depths0=[0.5], fixedDepths=[False])\n",
    "k.invert(method='ROPE', njobs=1)\n",
    "k.show3D()"
   ]
  },
  {
   "cell_type": "markdown",
   "metadata": {},
   "source": [
    "EMagPy can also smooth the 1D inversion in 3D, similarly to lateral smoothing for 2D. For this set the `threed=True` argument and specify a smoothing value using the `beta` parameter. EMagPy will penalize the inversion from the closest 1D survey (in 3D distance)."
   ]
  },
  {
   "cell_type": "code",
   "execution_count": 7,
   "metadata": {},
   "outputs": [
    {
     "name": "stdout",
     "output_type": "stream",
     "text": [
      "31/31 inverted"
     ]
    },
    {
     "data": {
      "application/vnd.jupyter.widget-view+json": {
       "model_id": "58ab1d7f3a9a4b1db7ec0521f8791111",
       "version_major": 2,
       "version_minor": 0
      },
      "text/plain": [
       "Widget(value=\"<iframe src='http://localhost:43963/index.html?ui=P_0x7f59a00f27d0_5&reconnect=auto' style='widt…"
      ]
     },
     "metadata": {},
     "output_type": "display_data"
    }
   ],
   "source": [
    "k = Problem()\n",
    "k.createSurvey('../src/examples/saprolite/regolith.csv')\n",
    "k.convertFromNMEA()\n",
    "k.invert(threed=True, beta=0.5)\n",
    "k.show3D()"
   ]
  },
  {
   "cell_type": "code",
   "execution_count": null,
   "metadata": {},
   "outputs": [],
   "source": []
  }
 ],
 "metadata": {
  "kernelspec": {
   "display_name": "Python 3 (ipykernel)",
   "language": "python",
   "name": "python3"
  },
  "language_info": {
   "codemirror_mode": {
    "name": "ipython",
    "version": 3
   },
   "file_extension": ".py",
   "mimetype": "text/x-python",
   "name": "python",
   "nbconvert_exporter": "python",
   "pygments_lexer": "ipython3",
   "version": "3.10.12"
  }
 },
 "nbformat": 4,
 "nbformat_minor": 4
}
